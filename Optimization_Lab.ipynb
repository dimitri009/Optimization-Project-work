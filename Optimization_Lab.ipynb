{
  "nbformat": 4,
  "nbformat_minor": 0,
  "metadata": {
    "colab": {
      "provenance": [],
      "authorship_tag": "ABX9TyNEDl80jaZSC0NOZRqmvTgu",
      "include_colab_link": true
    },
    "kernelspec": {
      "name": "python3",
      "display_name": "Python 3"
    },
    "language_info": {
      "name": "python"
    }
  },
  "cells": [
    {
      "cell_type": "markdown",
      "metadata": {
        "id": "view-in-github",
        "colab_type": "text"
      },
      "source": [
        "<a href=\"https://colab.research.google.com/github/dimitri009/Optimization-Project-work/blob/main/Optimization_Lab.ipynb\" target=\"_parent\"><img src=\"https://colab.research.google.com/assets/colab-badge.svg\" alt=\"Open In Colab\"/></a>"
      ]
    },
    {
      "cell_type": "markdown",
      "source": [
        "# **Project Work in Optimization Methods/Optimization Techniques for Machine Learning**"
      ],
      "metadata": {
        "id": "xWEKZJGaNag7"
      }
    },
    {
      "cell_type": "markdown",
      "source": [
        "# Assignment\n",
        "\n",
        "*   **Project topic :** Evaluating the performance of Gradient Descent and Newton’s methods\n",
        "on Logistic Regression Problems\n",
        "\n",
        "*   **Topic description :** Logistic regression models are trained solving a nonlinear optimization problem (see Lecture notes, Sec. 2.3). This problem can be solved using any\n",
        "of the most popular solvers for nonlinear unconstrained optimization. In particular,\n",
        "gradient descent method and Newton’s method are both viable options.\n",
        "\n",
        "*   **Topic description :**\n",
        "    1.   Implement (in Python language, exploit numpy library) classes and functions\n",
        "allowing to load data to build an instance of ℓ2-regularized logistic regression\n",
        "problem, compute the loss, the gradient of the loss and the Hessian (see Lecture\n",
        "notes, Sec. 2.3).\n",
        "\n",
        "    2.    Implement gradient descent and Newton’s method. Gradient descent should be\n",
        "equipped with an Armijo-type line search.\n",
        "\n",
        "    3.   entify a small set of real-world instances (∼ 6 datasets), to carry out experiments.\n",
        "    4.    Test the efficiency of the considered methods on this benchmark of problems,\n",
        "measuring the number of iterations and the runtime needed to reach solutions\n",
        "that are (approximately) stationary points. Also report the objective value at\n",
        "the obtained final solutions.\n",
        "\n",
        "    5.    **Bonus task:** Include in the comparison the conjugate gradient method that\n",
        "can be found in the scipy.optimize module.\n"
      ],
      "metadata": {
        "id": "ul1fZPaF_Scy"
      }
    },
    {
      "cell_type": "code",
      "source": [
        "import numpy as np\n",
        "from scipy.optimize import minimize\n",
        "import matplotlib.pyplot as plt\n",
        "import time"
      ],
      "metadata": {
        "id": "SOfUTjz5NudV"
      },
      "execution_count": 18,
      "outputs": []
    },
    {
      "cell_type": "code",
      "source": [
        "def sigmoid(x):\n",
        "    return 1 / (1 + np.exp(-x))\n",
        "\n",
        "class LogisticRegressionL2:\n",
        "    def __init__(self, reg_param=1.0):\n",
        "        self.reg_param = reg_param\n",
        "        self.theta = None\n",
        "\n",
        "    def compute_loss(self, X, y, theta, reg_param):\n",
        "        m = len(y)\n",
        "        z = X.dot(theta)\n",
        "        h = sigmoid(z)\n",
        "        epsilon = 1e-15\n",
        "        loss = (-y * np.log(h + epsilon) - (1 - y) * np.log(1 - h + epsilon)).mean() + (reg_param / (2 * m)) * np.sum(theta ** 2)\n",
        "        return loss\n",
        "\n",
        "    def compute_gradient(self, X, y, theta, reg_param):\n",
        "        m = len(y)\n",
        "        z = X.dot(theta)\n",
        "        h = sigmoid(z)\n",
        "        gradient = (1 / m) * (X.T.dot(h - y) + reg_param * theta)\n",
        "        return gradient\n",
        "\n",
        "    def gradient_descent(self, X, y, max_iter=10000, learning_rate=0.1, tol=1e-3):\n",
        "        m, n = X.shape\n",
        "        y = y.reshape(-1, 1)\n",
        "        self.theta = np.zeros((n, 1))  # Initialize weights\n",
        "        i = 0\n",
        "        diff = 1\n",
        "\n",
        "        cost_values = []\n",
        "        gamma = 0.7\n",
        "\n",
        "        start_time = time.time()\n",
        "\n",
        "        while i < max_iter and diff > tol:\n",
        "            alpha = learning_rate\n",
        "            z = X.dot(self.theta)\n",
        "            h = sigmoid(z)\n",
        "\n",
        "            gradient = (1 / m) * (X.T.dot(h - y) + self.reg_param * self.theta)\n",
        "\n",
        "            # Armijo-type line search\n",
        "            while True:\n",
        "                new_theta = self.theta - alpha * gradient\n",
        "\n",
        "                loss_new = self.compute_loss(X, y, new_theta, self.reg_param)\n",
        "                loss_current = self.compute_loss(X, y, self.theta, self.reg_param)\n",
        "                diff = np.abs(loss_current - loss_new)\n",
        "\n",
        "\n",
        "                linear_approximation = gamma * alpha * np.squeeze(gradient).dot(np.squeeze(gradient))\n",
        "\n",
        "                # print('liner_approximation: ', round(linear_approximation, 3), 'loss_new:', round(loss_new, 3),\n",
        "                #       'current_loss', round(loss_current, 3), 'loss_current - linear_approximation', round(loss_current - linear_approximation, 3))\n",
        "                if loss_new <= loss_current - linear_approximation:\n",
        "                    break\n",
        "                alpha *= 0.5\n",
        "                print(alpha)\n",
        "                break\n",
        "\n",
        "\n",
        "            self.theta = new_theta.copy()\n",
        "            cost_values.append(loss_current)\n",
        "\n",
        "            # if (i % (max_iter / 10) == 0) or alpha != learning_rate:\n",
        "            #     print(\"Cost after\", i, \"iterations is:\", loss_current, \"Learning rate:\", alpha)\n",
        "            i += 1\n",
        "\n",
        "        end_time = time.time()\n",
        "        runtime = end_time - start_time\n",
        "\n",
        "        # print('\\nGradient descent')\n",
        "        # print(\"Total iterations:\", i)\n",
        "        # print(\"Runtime:\", runtime, \"seconds\")\n",
        "        return self.theta, cost_values, runtime, i\n",
        "\n",
        "    def newtons_method(self, X, y, max_iter=1000, tol=1e-3):\n",
        "        m, n = X.shape\n",
        "        y = y.reshape(-1, 1)\n",
        "        self.theta = np.zeros((n, 1))  # Initialize weights\n",
        "        cost_values = []\n",
        "        diff = 1\n",
        "        iter_count = 0\n",
        "\n",
        "        start_time = time.time()\n",
        "\n",
        "        while iter_count < max_iter and diff > tol:\n",
        "            z = X.dot(self.theta)\n",
        "            h = sigmoid(z)\n",
        "\n",
        "            gradient = (1 / m) * X.T.dot(h - y)\n",
        "            hessian = np.linalg.inv(X.T.dot(np.diagflat(h)).dot(X) + self.reg_param * np.identity(n))\n",
        "\n",
        "            # Solve for the update using the Newton's method equation\n",
        "            update = hessian.dot(gradient)\n",
        "            self.theta -= update\n",
        "\n",
        "            cost_values.append(self.compute_loss(X, y, self.theta, self.reg_param))\n",
        "            iter_count = iter_count + 1\n",
        "            # Check for convergence\n",
        "            if np.linalg.norm(update) < tol:\n",
        "                break\n",
        "\n",
        "\n",
        "            if iter_count > 1:\n",
        "              diff = np.abs(cost_values[-1] - cost_values[-2])\n",
        "\n",
        "\n",
        "\n",
        "        end_time = time.time()\n",
        "        runtime = end_time - start_time\n",
        "\n",
        "        # print('\\nNewtons method')\n",
        "        # print(\"Total iterations:\", iter_count)\n",
        "        # print(\"Runtime:\", runtime, \"seconds\")\n",
        "        return self.theta, cost_values, runtime, iter_count\n",
        "\n",
        "    def gradient_conjugate(self, X, y):\n",
        "        # Implement gradient conjugate using scipy.optimize.minimize\n",
        "        m, n = X.shape\n",
        "        y = y.reshape(-1, 1)\n",
        "        self.theta = np.zeros((n, 1))  # Initialize weights\n",
        "        loss = lambda theta: self.compute_loss(X, y, theta.reshape(-1, 1), self.reg_param)\n",
        "        gradient = lambda theta: self.compute_gradient(X, y, theta.reshape(-1, 1), self.reg_param).flatten()\n",
        "\n",
        "        start_time = time.time()\n",
        "        result = minimize(fun=loss, x0=self.theta.flatten(), jac=gradient, method='CG', options={'maxiter': 100, 'disp': False})\n",
        "        end_time = time.time()\n",
        "\n",
        "        self.theta = result.x.reshape(-1, 1)\n",
        "        runtime = end_time - start_time\n",
        "\n",
        "        # print('\\nConjugate gradient')\n",
        "        # print(\"Runtime:\", runtime, \"seconds\")\n",
        "        return self.theta, runtime, result\n",
        "\n",
        "    def test(self, X_test, y_test):\n",
        "        h = sigmoid(X_test.dot(self.theta))\n",
        "        y_pred = np.where(h > 0.5, 1, 0)\n",
        "        y_test = y_test.reshape(-1, 1)\n",
        "        accuracy = np.mean(y_pred == y_test)\n",
        "        # print(\"Accuracy:\", accuracy)\n",
        "        return accuracy\n"
      ],
      "metadata": {
        "id": "5etsMBj_hJ4y"
      },
      "execution_count": 33,
      "outputs": []
    },
    {
      "cell_type": "code",
      "source": [
        "from sklearn.datasets import load_breast_cancer\n",
        "from sklearn.preprocessing import StandardScaler\n",
        "from sklearn.model_selection import train_test_split"
      ],
      "metadata": {
        "id": "4x0MuY2IOufU"
      },
      "execution_count": 34,
      "outputs": []
    },
    {
      "cell_type": "code",
      "source": [
        "def fit_logistic_regression_methods(X_train, y_train, reg_param=1.0):\n",
        "    logistic_reg = LogisticRegressionL2(reg_param)\n",
        "\n",
        "    # Gradient Descent\n",
        "    theta_gd, cost_values_gd, runtime_gd, iterations_gd = logistic_reg.gradient_descent(X_train, y_train)\n",
        "    accuracy = logistic_reg.test(X_val,y_val)\n",
        "    result_gd = {\n",
        "        'last_cost_value': cost_values_gd[-1],\n",
        "        'runtime': runtime_gd,\n",
        "        'iterations': iterations_gd,\n",
        "        'accuracy': accuracy\n",
        "    }\n",
        "\n",
        "    # Newton's Method\n",
        "    theta_newton, cost_values_newton, runtime_newton, iterations_newton = logistic_reg.newtons_method(X_train, y_train)\n",
        "    accuracy = logistic_reg.test(X_val,y_val)\n",
        "    result_newton = {\n",
        "        'last_cost_value': cost_values_newton[-1],\n",
        "        'runtime': runtime_newton,\n",
        "        'iterations': iterations_newton,\n",
        "        'accuracy': accuracy\n",
        "    }\n",
        "\n",
        "    # Gradient Conjugate\n",
        "    theta_conjugate, runtime_conjugate, result = logistic_reg.gradient_conjugate(X_train, y_train)\n",
        "    accuracy = logistic_reg.test(X_val,y_val)\n",
        "    last_cost_value = result.fun\n",
        "    num_iterations = result.nit\n",
        "    result_conjugate = {\n",
        "        'last_cost_value': last_cost_value,\n",
        "        'runtime': runtime_conjugate,\n",
        "        'iterations': num_iterations,\n",
        "        'accuracy': accuracy\n",
        "    }\n",
        "\n",
        "    results = {\n",
        "        'Gradient Descent': result_gd,\n",
        "        'Newton\\'s Method': result_newton,\n",
        "        'Gradient Conjugate': result_conjugate\n",
        "    }\n",
        "\n",
        "    return results\n",
        "\n"
      ],
      "metadata": {
        "id": "d4bUwC3Hf4Fk"
      },
      "execution_count": 35,
      "outputs": []
    },
    {
      "cell_type": "code",
      "source": [
        "def test_logistic_regression_methods(X_train, y_train, X_test, y_test, reg_param=1.0):\n",
        "    logistic_reg = LogisticRegressionL2(reg_param)\n",
        "\n",
        "    # Gradient Descent\n",
        "\n",
        "    theta_gd, cost_values_gd, elapsed_time_gd, _ = logistic_reg.gradient_descent(X_train, y_train)\n",
        "    accuracy_gd = logistic_reg.test(X_test, y_test)\n",
        "\n",
        "    plt.plot(range(1, len(cost_values_gd) + 1), cost_values_gd, label='Gradient Descent')\n",
        "\n",
        "    # Newton's Method\n",
        "    theta_newton, cost_values_newton, elapsed_time_newton, _ = logistic_reg.newtons_method(X_train, y_train)\n",
        "    accuracy_newton = logistic_reg.test(X_test, y_test)\n",
        "\n",
        "    plt.plot(range(1, len(cost_values_newton) + 1), cost_values_newton, label='Newton\\'s Method')\n",
        "\n",
        "    # Test and print accuracies\n",
        "    print(f\"Gradient Descent Accuracy: {accuracy_gd:.4f} (Time: {elapsed_time_gd:.4f} seconds)\")\n",
        "    print(f\"Newton's Method Accuracy: {accuracy_newton:.4f} (Time: {elapsed_time_newton:.4f} seconds)\")\n",
        "\n",
        "    plt.title('Cost Function over Iterations')\n",
        "    plt.xlabel('Iterations')\n",
        "    plt.ylabel('Cost')\n",
        "    plt.legend()\n",
        "    plt.show()"
      ],
      "metadata": {
        "id": "Y7SvBfnXgLWt"
      },
      "execution_count": 36,
      "outputs": []
    },
    {
      "cell_type": "code",
      "source": [
        "def plot_logistic_regression_results(results):\n",
        "    methods = list(results.keys())\n",
        "\n",
        "    # Plotting Accuracy\n",
        "    accuracies = [results[method]['accuracy'] for method in methods]\n",
        "    plt.figure(figsize=(10, 5))\n",
        "    plt.bar(methods, accuracies, color=['blue', 'orange', 'green'])\n",
        "    plt.title('Accuracy of Logistic Regression Methods')\n",
        "    plt.ylabel('Accuracy')\n",
        "    plt.show()\n",
        "\n",
        "    # Plotting Runtime\n",
        "    iterations = [results[method]['runtime'] for method in methods]\n",
        "    plt.figure(figsize=(10, 5))\n",
        "    plt.bar(methods, iterations, color=['blue', 'orange', 'green'])\n",
        "    plt.title('Runtime of Logistic Regression Methods')\n",
        "    plt.ylabel('Runtime')\n",
        "    plt.show()"
      ],
      "metadata": {
        "id": "rjUfLSl8rs_S"
      },
      "execution_count": 37,
      "outputs": []
    },
    {
      "cell_type": "markdown",
      "source": [
        "# Breast cancer dataset\n",
        "\n",
        "The breast cancer dataset is a classic binary classification dataset.\n",
        "\n",
        "Ten real-valued features are computed for each cell nucleus:\n",
        "\n",
        "\ta) radius (mean of distances from center to points on the perimeter)\n",
        "\tb) texture (standard deviation of gray-scale values)\n",
        "\tc) perimeter\n",
        "\td) area\n",
        "\te) smoothness (local variation in radius lengths)\n",
        "\tf) compactness (perimeter^2 / area - 1.0)\n",
        "\tg) concavity (severity of concave portions of the contour)\n",
        "\th) concave points (number of concave portions of the contour)\n",
        "\ti) symmetry\n",
        "\tj) fractal dimension (\"coastline approximation\" - 1)\n",
        "\n",
        "* Classes: 2\n",
        "\n",
        "* Samples per class: 212(M),357(B)\n",
        "\n",
        "* Samples total: 569\n",
        "\n",
        "* Dimensionality: 30\n",
        "\n",
        "* Features: real, positive\n",
        "\n",
        "Additional informations:\n",
        "\n",
        "* Instances: 569\n",
        "\n",
        "* Features: 30"
      ],
      "metadata": {
        "id": "rwHK8GD31oPJ"
      }
    },
    {
      "cell_type": "code",
      "source": [
        "# Load the Breast Cancer Wisconsin dataset\n",
        "data = load_breast_cancer()\n",
        "X = data.data\n",
        "y = data.target\n",
        "\n",
        "# Standardize the feature matrix\n",
        "scaler = StandardScaler()\n",
        "X = scaler.fit_transform(X)\n",
        "\n",
        "\n",
        "# Split the data into training and validation sets\n",
        "X_train, X_val, y_train, y_val = train_test_split(X, y, test_size=0.2, random_state=42)"
      ],
      "metadata": {
        "id": "xmi6w0blOzHq"
      },
      "execution_count": 38,
      "outputs": []
    },
    {
      "cell_type": "code",
      "source": [
        "\n",
        "results_dict = fit_logistic_regression_methods(X_train, y_train, reg_param=1.0)\n",
        "\n",
        "# Print the results\n",
        "for method, result in results_dict.items():\n",
        "    print(f\"\\nResults for {method}:\\n\", result)\n"
      ],
      "metadata": {
        "colab": {
          "base_uri": "https://localhost:8080/"
        },
        "id": "4pO4QXPNgBIE",
        "outputId": "5f89f637-677e-403c-ec48-b5e551b21da1"
      },
      "execution_count": 39,
      "outputs": [
        {
          "output_type": "stream",
          "name": "stdout",
          "text": [
            "\n",
            "Results for Gradient Descent:\n",
            " {'last_cost_value': 0.14190946075756944, 'runtime': 0.018695592880249023, 'iterations': 49, 'accuracy': 0.9736842105263158}\n",
            "\n",
            "Results for Newton's Method:\n",
            " {'last_cost_value': 0.6915551170019546, 'runtime': 0.0026400089263916016, 'iterations': 2, 'accuracy': 0.9473684210526315}\n",
            "\n",
            "Results for Gradient Conjugate:\n",
            " {'last_cost_value': 0.07011962250217085, 'runtime': 0.015914440155029297, 'iterations': 30, 'accuracy': 0.9824561403508771}\n"
          ]
        }
      ]
    },
    {
      "cell_type": "code",
      "source": [
        "plot_logistic_regression_results(results_dict)"
      ],
      "metadata": {
        "colab": {
          "base_uri": "https://localhost:8080/",
          "height": 919
        },
        "id": "srYZ4VtErySg",
        "outputId": "d505ea1a-50bf-4049-9636-7084e8ed6b99"
      },
      "execution_count": 9,
      "outputs": [
        {
          "output_type": "display_data",
          "data": {
            "text/plain": [
              "<Figure size 1000x500 with 1 Axes>"
            ],
            "image/png": "[encoded data removed]"
          },
          "metadata": {}
        },
        {
          "output_type": "display_data",
          "data": {
            "text/plain": [
              "<Figure size 1000x500 with 1 Axes>"
            ],
            "image/png": "[encoded data removed]"
          },
          "metadata": {}
        }
      ]
    },
    {
      "cell_type": "markdown",
      "source": [
        "**Findings:**\n",
        "\n",
        "* Accuracy: Gradient Conjugate achieved the highest accuracy (98.25%) on the\n",
        "breast cancer dataset, followed closely by Gradient Descent (97.37%). Newton's Method achieved a slightly lower accuracy (94.74%).\n",
        "\n",
        "* Runtime: Newton's Method had the fastest runtime (0.0026 seconds), indicating that it converged quickly. Gradient Descent and Gradient Conjugate had similar runtimes, with Gradient Conjugate being slightly longer.\n",
        "\n",
        "* Iterations: Newton's Method required only 2 iterations to converge, which is significantly lower than Gradient Descent (49 iterations) and Gradient Conjugate (30 iterations). This suggests that Newton's Method reached a stationary point more rapidly.\n",
        "\n",
        "**Conclusion:**\n",
        "\n",
        "For this specific breast cancer dataset, Gradient Conjugate appears to be the most efficient in terms of both accuracy and convergence speed.\n",
        "Newton's Method is efficient in terms of convergence speed but achieved a slightly lower accuracy compared to Gradient Conjugate.\n",
        "Gradient Descent, while accurate, required more iterations and had a longer runtime compared to the other methods.\n",
        "It's important to note that the effectiveness of each optimization method can vary based on the dataset and problem characteristics. The choice of method may depend on the trade-off between accuracy, convergence speed, and computational resources."
      ],
      "metadata": {
        "id": "LaNZdJQYJZfS"
      }
    },
    {
      "cell_type": "code",
      "source": [
        "pip install ucimlrepo"
      ],
      "metadata": {
        "colab": {
          "base_uri": "https://localhost:8080/"
        },
        "id": "x15VPU6o1wem",
        "outputId": "c04a6900-59ee-4cc2-b332-932f6a2eba22"
      },
      "execution_count": 40,
      "outputs": [
        {
          "output_type": "stream",
          "name": "stdout",
          "text": [
            "Collecting ucimlrepo\n",
            "  Downloading ucimlrepo-0.0.3-py3-none-any.whl (7.0 kB)\n",
            "Installing collected packages: ucimlrepo\n",
            "Successfully installed ucimlrepo-0.0.3\n"
          ]
        }
      ]
    },
    {
      "cell_type": "markdown",
      "source": [
        "# Ionosphere Dataset\n",
        "Classification of radar returns from the ionosphere\n",
        "Dataset Information\n",
        "Additional Information\n",
        "\n",
        "This radar data was collected by a system in Goose Bay, Labrador.  This system consists of a phased array of 16 high-frequency antennas with a total transmitted power on the order of 6.4 kilowatts.  See the paper for more details.  The targets were free electrons in the ionosphere. \"Good\" radar returns are those showing evidence of some type of structure in the ionosphere.  \"Bad\" returns are those that do not; their signals pass through the ionosphere.  \n",
        "\n",
        "Received signals were processed using an autocorrelation function whose arguments are the time of a pulse and the pulse number.  There were 17 pulse numbers for the Goose Bay system.  Instances in this databse are described by 2 attributes per pulse number, corresponding to the complex values returned by the function resulting from the complex electromagnetic signal.\n",
        "\n",
        "\n",
        "*  Instances 351\n",
        "*   Features 34 (All 34 are continuous)\n",
        "* The 35th attribute is either \"good\" or \"bad\" according to the definition summarized above.  This is a binary classification task.\n"
      ],
      "metadata": {
        "id": "9c6KWmLovxOe"
      }
    },
    {
      "cell_type": "markdown",
      "source": [
        "# Missing Values: NO"
      ],
      "metadata": {
        "id": "gJdEvIeA8CYl"
      }
    },
    {
      "cell_type": "code",
      "source": [
        "from ucimlrepo import fetch_ucirepo\n",
        "\n",
        "# fetch dataset\n",
        "ionosphere = fetch_ucirepo(id=52)\n",
        "\n",
        "# data (as pandas dataframes)\n",
        "X = ionosphere.data.features\n",
        "y = ionosphere.data.targets\n",
        "\n",
        "# metadata\n",
        "print(ionosphere.metadata)\n",
        "\n",
        "# variable information\n",
        "print(ionosphere.variables)"
      ],
      "metadata": {
        "colab": {
          "base_uri": "https://localhost:8080/"
        },
        "id": "fWF7F5BU1xRo",
        "outputId": "60f457d2-c45c-42af-fd08-90949988125b"
      },
      "execution_count": 41,
      "outputs": [
        {
          "output_type": "stream",
          "name": "stdout",
          "text": [
            "{'uci_id': 52, 'name': 'Ionosphere', 'repository_url': 'https://archive.ics.uci.edu/dataset/52/ionosphere', 'data_url': 'https://archive.ics.uci.edu/static/public/52/data.csv', 'abstract': 'Classification of radar returns from the ionosphere', 'area': 'Physics and Chemistry', 'tasks': ['Classification'], 'characteristics': ['Multivariate'], 'num_instances': 351, 'num_features': 34, 'feature_types': ['Integer', 'Real'], 'demographics': [], 'target_col': ['Class'], 'index_col': None, 'has_missing_values': 'no', 'missing_values_symbol': None, 'year_of_dataset_creation': 1989, 'last_updated': 'Sun Jan 01 1989', 'dataset_doi': '10.24432/C5W01B', 'creators': ['V. Sigillito', 'S. Wing', 'L. Hutton', 'K. Baker'], 'intro_paper': None, 'additional_info': {'summary': 'This radar data was collected by a system in Goose Bay, Labrador.  This system consists of a phased array of 16 high-frequency antennas with a total transmitted power on the order of 6.4 kilowatts.  See the paper for more details.  The targets were free electrons in the ionosphere. \"Good\" radar returns are those showing evidence of some type of structure in the ionosphere.  \"Bad\" returns are those that do not; their signals pass through the ionosphere.  \\r\\n\\r\\nReceived signals were processed using an autocorrelation function whose arguments are the time of a pulse and the pulse number.  There were 17 pulse numbers for the Goose Bay system.  Instances in this databse are described by 2 attributes per pulse number, corresponding to the complex values returned by the function resulting from the complex electromagnetic signal.', 'purpose': None, 'funded_by': None, 'instances_represent': None, 'recommended_data_splits': None, 'sensitive_data': None, 'preprocessing_description': None, 'variable_info': '-- All 34 are continuous\\r\\n-- The 35th attribute is either \"good\" or \"bad\" according to the definition summarized above.  This is a binary classification task.\\r\\n', 'citation': None}}\n",
            "           name     role         type demographic description units  \\\n",
            "0    Attribute1  Feature   Continuous        None        None  None   \n",
            "1    Attribute2  Feature   Continuous        None        None  None   \n",
            "2    Attribute3  Feature   Continuous        None        None  None   \n",
            "3    Attribute4  Feature   Continuous        None        None  None   \n",
            "4    Attribute5  Feature   Continuous        None        None  None   \n",
            "5    Attribute6  Feature   Continuous        None        None  None   \n",
            "6    Attribute7  Feature   Continuous        None        None  None   \n",
            "7    Attribute8  Feature   Continuous        None        None  None   \n",
            "8    Attribute9  Feature   Continuous        None        None  None   \n",
            "9   Attribute10  Feature   Continuous        None        None  None   \n",
            "10  Attribute11  Feature   Continuous        None        None  None   \n",
            "11  Attribute12  Feature   Continuous        None        None  None   \n",
            "12  Attribute13  Feature   Continuous        None        None  None   \n",
            "13  Attribute14  Feature   Continuous        None        None  None   \n",
            "14  Attribute15  Feature   Continuous        None        None  None   \n",
            "15  Attribute16  Feature   Continuous        None        None  None   \n",
            "16  Attribute17  Feature   Continuous        None        None  None   \n",
            "17  Attribute18  Feature   Continuous        None        None  None   \n",
            "18  Attribute19  Feature   Continuous        None        None  None   \n",
            "19  Attribute20  Feature   Continuous        None        None  None   \n",
            "20  Attribute21  Feature   Continuous        None        None  None   \n",
            "21  Attribute22  Feature   Continuous        None        None  None   \n",
            "22  Attribute23  Feature   Continuous        None        None  None   \n",
            "23  Attribute24  Feature   Continuous        None        None  None   \n",
            "24  Attribute25  Feature   Continuous        None        None  None   \n",
            "25  Attribute26  Feature   Continuous        None        None  None   \n",
            "26  Attribute27  Feature   Continuous        None        None  None   \n",
            "27  Attribute28  Feature   Continuous        None        None  None   \n",
            "28  Attribute29  Feature   Continuous        None        None  None   \n",
            "29  Attribute30  Feature   Continuous        None        None  None   \n",
            "30  Attribute31  Feature   Continuous        None        None  None   \n",
            "31  Attribute32  Feature   Continuous        None        None  None   \n",
            "32  Attribute33  Feature   Continuous        None        None  None   \n",
            "33  Attribute34  Feature   Continuous        None        None  None   \n",
            "34        Class   Target  Categorical        None        None  None   \n",
            "\n",
            "   missing_values  \n",
            "0              no  \n",
            "1              no  \n",
            "2              no  \n",
            "3              no  \n",
            "4              no  \n",
            "5              no  \n",
            "6              no  \n",
            "7              no  \n",
            "8              no  \n",
            "9              no  \n",
            "10             no  \n",
            "11             no  \n",
            "12             no  \n",
            "13             no  \n",
            "14             no  \n",
            "15             no  \n",
            "16             no  \n",
            "17             no  \n",
            "18             no  \n",
            "19             no  \n",
            "20             no  \n",
            "21             no  \n",
            "22             no  \n",
            "23             no  \n",
            "24             no  \n",
            "25             no  \n",
            "26             no  \n",
            "27             no  \n",
            "28             no  \n",
            "29             no  \n",
            "30             no  \n",
            "31             no  \n",
            "32             no  \n",
            "33             no  \n",
            "34             no  \n"
          ]
        }
      ]
    },
    {
      "cell_type": "code",
      "source": [
        "y = np.where(y['Class'] == 'g', 1, 0)\n",
        "print(y)\n"
      ],
      "metadata": {
        "colab": {
          "base_uri": "https://localhost:8080/"
        },
        "id": "nhO29Jz6sSek",
        "outputId": "8d20fa6f-cbd8-4cb7-8aed-b7f7e33fc1fe"
      },
      "execution_count": 42,
      "outputs": [
        {
          "output_type": "stream",
          "name": "stdout",
          "text": [
            "[1 0 1 0 1 0 1 0 1 0 1 0 1 0 1 0 1 0 1 0 1 0 1 0 1 0 1 0 1 0 1 0 1 0 1 0 1\n",
            " 0 1 0 1 0 1 0 1 0 1 0 1 0 1 0 1 0 1 0 1 0 1 0 1 0 1 0 1 0 1 0 1 0 1 0 1 0\n",
            " 1 0 1 0 1 0 1 0 1 0 1 0 1 0 1 0 1 0 1 0 1 0 1 1 0 1 0 1 0 1 0 1 0 1 0 1 0\n",
            " 1 0 1 0 1 0 1 0 1 0 1 0 1 0 1 0 1 0 1 0 1 0 1 0 1 0 1 0 1 0 1 0 1 0 1 0 1\n",
            " 0 1 0 1 0 1 0 1 0 1 0 1 0 1 0 1 0 1 0 1 0 1 0 1 0 1 0 1 0 1 0 1 0 1 0 1 0\n",
            " 1 0 1 0 1 0 1 0 1 0 1 0 1 0 1 0 1 0 1 0 1 0 1 0 1 0 1 0 1 0 1 0 1 0 1 0 1\n",
            " 0 1 0 1 0 1 0 1 0 1 0 1 0 1 0 1 0 1 0 1 0 1 0 1 0 1 0 1 0 1 0 1 1 1 1 1 1\n",
            " 1 1 1 1 1 1 1 1 1 1 1 1 1 1 1 1 1 1 1 1 1 1 1 1 1 1 1 1 1 1 1 1 1 1 1 1 1\n",
            " 1 1 1 1 1 1 1 1 1 1 1 1 1 1 1 1 1 1 1 1 1 1 1 1 1 1 1 1 1 1 1 1 1 1 1 1 1\n",
            " 1 1 1 1 1 1 1 1 1 1 1 1 1 1 1 1 1 1]\n"
          ]
        }
      ]
    },
    {
      "cell_type": "code",
      "source": [
        "print(X.shape)\n",
        "X = X.values"
      ],
      "metadata": {
        "colab": {
          "base_uri": "https://localhost:8080/"
        },
        "id": "Uc4eF5FOuXBH",
        "outputId": "ee8449cc-a0c4-4908-9bac-3136dad68195"
      },
      "execution_count": 43,
      "outputs": [
        {
          "output_type": "stream",
          "name": "stdout",
          "text": [
            "(351, 34)\n"
          ]
        }
      ]
    },
    {
      "cell_type": "code",
      "source": [
        "X = scaler.fit_transform(X)\n",
        "\n",
        "# Split the data into training and validation sets\n",
        "X_train, X_val, y_train, y_val = train_test_split(X, y, test_size=0.2, random_state=42)"
      ],
      "metadata": {
        "id": "4eUt6lWCxMt3"
      },
      "execution_count": 44,
      "outputs": []
    },
    {
      "cell_type": "code",
      "source": [
        "results_dict = fit_logistic_regression_methods(X_train, y_train, reg_param=1.0)\n",
        "\n",
        "# Print the results\n",
        "for method, result in results_dict.items():\n",
        "    print(f\"\\nResults for {method}:\\n\", result)"
      ],
      "metadata": {
        "colab": {
          "base_uri": "https://localhost:8080/"
        },
        "id": "legXZZeJw55U",
        "outputId": "fefee210-32f3-4feb-f0e2-fe16b21b7798"
      },
      "execution_count": 45,
      "outputs": [
        {
          "output_type": "stream",
          "name": "stdout",
          "text": [
            "\n",
            "Results for Gradient Descent:\n",
            " {'last_cost_value': 0.3230572544541579, 'runtime': 0.048552751541137695, 'iterations': 70, 'accuracy': 0.8873239436619719}\n",
            "\n",
            "Results for Newton's Method:\n",
            " {'last_cost_value': 0.6850937395624074, 'runtime': 0.012019157409667969, 'iterations': 8, 'accuracy': 0.8873239436619719}\n",
            "\n",
            "Results for Gradient Conjugate:\n",
            " {'last_cost_value': 0.20173359429413568, 'runtime': 0.1407766342163086, 'iterations': 48, 'accuracy': 0.8732394366197183}\n"
          ]
        }
      ]
    },
    {
      "cell_type": "markdown",
      "source": [
        "**Findings:**\n",
        "\n",
        "* Accuracy: Gradient Descent and Newton's Method achieved the highest accuracy of 88.73%, while Gradient Conjugate had a slightly lower accuracy of 87.32%.\n",
        "\n",
        "* Runtime: Newton's Method had the fastest runtime (0.0120 seconds), followed by Gradient Descent (0.0486 seconds) and Gradient Conjugate (0.1408 seconds). Newton's Method was significantly faster.\n",
        "\n",
        "* Iterations: Gradient Descent required the highest number of iterations (70), followed by Gradient Conjugate (48) and Newton's Method (8).\n",
        "\n",
        "\n",
        "**Conclusion:**\n",
        "\n",
        "Newton's Method stands out in terms of both accuracy and convergence speed for the Ionosphere dataset, with the fewest iterations and the fastest runtime.\n",
        "Gradient Descent also performed well in terms of accuracy but required more iterations compared to Newton's Method.\n",
        "Gradient Conjugate, while accurate, had a slightly lower accuracy and required more iterations than Newton's Method.\n",
        "As always, the choice of optimization method depends on the specific characteristics of the dataset and the problem at hand."
      ],
      "metadata": {
        "id": "ffE-7mmOMIYq"
      }
    },
    {
      "cell_type": "markdown",
      "source": [
        "# Diabetes Dataset\n",
        "About Dataset\n",
        "Context\n",
        "This dataset is originally from the National Institute of Diabetes and Digestive and Kidney Diseases. The objective is to predict based on diagnostic measurements whether a patient has diabetes.\n",
        "\n",
        "Content\n",
        "Several constraints were placed on the selection of these instances from a larger database. In particular, all patients here are females at least 21 years old of Pima Indian heritage.\n",
        "\n",
        "* Pregnancies: Number of times pregnant\n",
        "\n",
        "*   Glucose: Plasma glucose concentration a 2 hours in an oral glucose tolerance test\n",
        "*   BloodPressure: Diastolic blood pressure (mm Hg)\n",
        "*   SkinThickness: Triceps skin fold thickness (mm)\n",
        "*   Insulin: 2-Hour serum insulin (mu U/ml)\n",
        "*   BMI: Body mass index (weight in kg/(height in m)^2)\n",
        "*   DiabetesPedigreeFunction: Diabetes pedigree function\n",
        "*   Age: Age (years)\n",
        "*   Outcome: Class variable (0 or 1)\n"
      ],
      "metadata": {
        "id": "xbaVARNIwEvb"
      }
    },
    {
      "cell_type": "markdown",
      "source": [
        "# Missing Attribute Values: Yes"
      ],
      "metadata": {
        "id": "tMgxJ-Yu7vaI"
      }
    },
    {
      "cell_type": "code",
      "source": [
        "from google.colab import drive\n",
        "\n",
        "# Mount Google Drive\n",
        "drive.mount('/content/drive')"
      ],
      "metadata": {
        "colab": {
          "base_uri": "https://localhost:8080/"
        },
        "id": "wRGyxmSWb2dZ",
        "outputId": "a83bb161-fbf2-4395-ab0e-9c92d633fa47"
      },
      "execution_count": 46,
      "outputs": [
        {
          "output_type": "stream",
          "name": "stdout",
          "text": [
            "Mounted at /content/drive\n"
          ]
        }
      ]
    },
    {
      "cell_type": "code",
      "source": [
        "import pandas as pd"
      ],
      "metadata": {
        "id": "LdYLNI0Y2x4m"
      },
      "execution_count": 47,
      "outputs": []
    },
    {
      "cell_type": "code",
      "source": [
        "# Define the file path\n",
        "file_path = '/content/drive/MyDrive/dataOP/diabetes.csv'\n",
        "\n",
        "# Load the dataset into a DataFrame\n",
        "df = pd.read_csv(file_path)\n",
        "\n",
        "# Display the first few rows of the DataFrame\n",
        "print(df.head())"
      ],
      "metadata": {
        "colab": {
          "base_uri": "https://localhost:8080/"
        },
        "id": "pdOgmibTw1m4",
        "outputId": "093d7280-803a-49e2-9e9e-2f0a9cd19033"
      },
      "execution_count": 48,
      "outputs": [
        {
          "output_type": "stream",
          "name": "stdout",
          "text": [
            "   Pregnancies  Glucose  BloodPressure  SkinThickness  Insulin   BMI  \\\n",
            "0            6      148             72             35        0  33.6   \n",
            "1            1       85             66             29        0  26.6   \n",
            "2            8      183             64              0        0  23.3   \n",
            "3            1       89             66             23       94  28.1   \n",
            "4            0      137             40             35      168  43.1   \n",
            "\n",
            "   DiabetesPedigreeFunction  Age  Outcome  \n",
            "0                     0.627   50        1  \n",
            "1                     0.351   31        0  \n",
            "2                     0.672   32        1  \n",
            "3                     0.167   21        0  \n",
            "4                     2.288   33        1  \n"
          ]
        }
      ]
    },
    {
      "cell_type": "code",
      "source": [
        "# Features (X)\n",
        "X = df.drop(columns=['Outcome'])  # Exclude the 'Outcome' column\n",
        "\n",
        "# Target variable (y)\n",
        "y = df['Outcome']\n",
        "\n",
        "# Display the first few rows of X and y\n",
        "print(\"Features (X):\")\n",
        "print(X.head())\n",
        "\n",
        "print(\"\\nTarget variable (y):\")\n",
        "print(y.head())"
      ],
      "metadata": {
        "colab": {
          "base_uri": "https://localhost:8080/"
        },
        "id": "w5cbifJoyiCy",
        "outputId": "e93d9258-4441-489f-c4d7-e804d6d35eb8"
      },
      "execution_count": 49,
      "outputs": [
        {
          "output_type": "stream",
          "name": "stdout",
          "text": [
            "Features (X):\n",
            "   Pregnancies  Glucose  BloodPressure  SkinThickness  Insulin   BMI  \\\n",
            "0            6      148             72             35        0  33.6   \n",
            "1            1       85             66             29        0  26.6   \n",
            "2            8      183             64              0        0  23.3   \n",
            "3            1       89             66             23       94  28.1   \n",
            "4            0      137             40             35      168  43.1   \n",
            "\n",
            "   DiabetesPedigreeFunction  Age  \n",
            "0                     0.627   50  \n",
            "1                     0.351   31  \n",
            "2                     0.672   32  \n",
            "3                     0.167   21  \n",
            "4                     2.288   33  \n",
            "\n",
            "Target variable (y):\n",
            "0    1\n",
            "1    0\n",
            "2    1\n",
            "3    0\n",
            "4    1\n",
            "Name: Outcome, dtype: int64\n"
          ]
        }
      ]
    },
    {
      "cell_type": "code",
      "source": [
        "X = X.values\n",
        "y = y.values\n",
        "\n",
        "print(X.shape)\n",
        "print(y.shape)"
      ],
      "metadata": {
        "colab": {
          "base_uri": "https://localhost:8080/"
        },
        "id": "UjCK4gcFys1s",
        "outputId": "f8500eb2-6acb-4212-a531-67ee5fd546e1"
      },
      "execution_count": 50,
      "outputs": [
        {
          "output_type": "stream",
          "name": "stdout",
          "text": [
            "(768, 8)\n",
            "(768,)\n"
          ]
        }
      ]
    },
    {
      "cell_type": "code",
      "source": [
        "# Standardize the feature matrix\n",
        "scaler = StandardScaler()\n",
        "X = scaler.fit_transform(X)\n",
        "\n",
        "\n",
        "# Split the data into training and validation sets\n",
        "X_train, X_val, y_train, y_val = train_test_split(X, y, test_size=0.2, random_state=42)"
      ],
      "metadata": {
        "id": "03c141gZ3ZND"
      },
      "execution_count": 51,
      "outputs": []
    },
    {
      "cell_type": "code",
      "source": [
        "results_dict = fit_logistic_regression_methods(X_train, y_train, reg_param=1.0)\n",
        "\n",
        "# Print the results\n",
        "for method, result in results_dict.items():\n",
        "    print(f\"\\nResults for {method}:\\n\", result)"
      ],
      "metadata": {
        "colab": {
          "base_uri": "https://localhost:8080/"
        },
        "id": "cGu6N4Jn3f8T",
        "outputId": "25735ee3-3a47-4cf2-87dd-3fb56eea6a63"
      },
      "execution_count": 52,
      "outputs": [
        {
          "output_type": "stream",
          "name": "stdout",
          "text": [
            "\n",
            "Results for Gradient Descent:\n",
            " {'last_cost_value': 0.5599950360434437, 'runtime': 0.009913206100463867, 'iterations': 38, 'accuracy': 0.7012987012987013}\n",
            "\n",
            "Results for Newton's Method:\n",
            " {'last_cost_value': 0.6929175564737095, 'runtime': 0.005495786666870117, 'iterations': 1, 'accuracy': 0.6883116883116883}\n",
            "\n",
            "Results for Gradient Conjugate:\n",
            " {'last_cost_value': 0.5272842948782798, 'runtime': 0.006127595901489258, 'iterations': 12, 'accuracy': 0.6883116883116883}\n"
          ]
        }
      ]
    },
    {
      "cell_type": "markdown",
      "source": [
        "**Findings:**\n",
        "\n",
        "* Accuracy: Gradient Descent achieved the highest accuracy of 70.13%, while Newton's Method and Gradient Conjugate had a slightly lower accuracy of 68.83%.\n",
        "\n",
        "* Runtime: Newton's Method had the fastest runtime (0.0055 seconds), followed by Gradient Conjugate (0.0061 seconds) and Gradient Descent (0.0099 seconds).\n",
        "\n",
        "* Iterations: Newton's Method had the fewest iterations (1), Gradient Conjugate had 12 iterations, and Gradient Descent required 38 iterations.\n",
        "\n",
        "**Conclusion:**\n",
        "\n",
        "Gradient Descent achieved the highest accuracy on the Diabetes dataset but required more iterations compared to the other methods.\n",
        "Newton's Method demonstrated fast convergence with the fewest iterations and the fastest runtime.\n",
        "Gradient Conjugate, while accurate, had a slightly lower accuracy and required more iterations compared to Newton's Method."
      ],
      "metadata": {
        "id": "7tBL8xK-M7gT"
      }
    },
    {
      "cell_type": "markdown",
      "source": [
        "# Wine Quality\n",
        "Two datasets are included, related to red and white vinho verde wine samples, from the north of Portugal. The goal is to model wine quality based on physicochemical tests\n",
        "\n",
        "Input variables (based on physicochemical tests):\n",
        "   * fixed acidity\n",
        "   * volatile acidity\n",
        "   * citric acid\n",
        "   * residual sugar\n",
        "   * chlorides\n",
        "   * free sulfur dioxide\n",
        "   * total sulfur dioxide\n",
        "   * density\n",
        "   * pH\n",
        "   * sulphates\n",
        "   * alcohol\n",
        "\n",
        "Output variable (based on sensory data):\n",
        "   * quality (score between 0 and 10)\n",
        "\n",
        "Additional informations:\n",
        "* Instances: 4898\n",
        "\n",
        "* Features: 11"
      ],
      "metadata": {
        "id": "nQQX1PS7_ySw"
      }
    },
    {
      "cell_type": "code",
      "source": [
        "# fetch dataset\n",
        "wine_quality = fetch_ucirepo(id=186)\n",
        "\n",
        "# data (as pandas dataframes)\n",
        "X = wine_quality.data.features\n",
        "y = wine_quality.data.targets\n",
        "\n",
        "# metadata\n",
        "print(wine_quality.metadata)\n",
        "\n",
        "# variable information\n",
        "print(wine_quality.variables)"
      ],
      "metadata": {
        "colab": {
          "base_uri": "https://localhost:8080/"
        },
        "id": "99jOA5Mi9go7",
        "outputId": "cf14f781-3453-4ec8-b01f-df01205b7290"
      },
      "execution_count": 59,
      "outputs": [
        {
          "output_type": "stream",
          "name": "stdout",
          "text": [
            "{'uci_id': 186, 'name': 'Wine Quality', 'repository_url': 'https://archive.ics.uci.edu/dataset/186/wine+quality', 'data_url': 'https://archive.ics.uci.edu/static/public/186/data.csv', 'abstract': 'Two datasets are included, related to red and white vinho verde wine samples, from the north of Portugal. The goal is to model wine quality based on physicochemical tests (see [Cortez et al., 2009], http://www3.dsi.uminho.pt/pcortez/wine/).', 'area': 'Business', 'tasks': ['Classification', 'Regression'], 'characteristics': ['Multivariate'], 'num_instances': 4898, 'num_features': 11, 'feature_types': ['Real'], 'demographics': [], 'target_col': ['quality'], 'index_col': None, 'has_missing_values': 'no', 'missing_values_symbol': None, 'year_of_dataset_creation': 2009, 'last_updated': 'Wed Nov 15 2023', 'dataset_doi': '10.24432/C56S3T', 'creators': ['Paulo Cortez', 'A. Cerdeira', 'F. Almeida', 'T. Matos', 'J. Reis'], 'intro_paper': {'title': 'Modeling wine preferences by data mining from physicochemical properties', 'authors': 'P. Cortez, A. Cerdeira, Fernando Almeida, Telmo Matos, J. Reis', 'published_in': 'Decision Support Systems', 'year': 2009, 'url': 'https://www.semanticscholar.org/paper/Modeling-wine-preferences-by-data-mining-from-Cortez-Cerdeira/bf15a0ccc14ac1deb5cea570c870389c16be019c', 'doi': None}, 'additional_info': {'summary': 'The two datasets are related to red and white variants of the Portuguese \"Vinho Verde\" wine. For more details, consult: http://www.vinhoverde.pt/en/ or the reference [Cortez et al., 2009].  Due to privacy and logistic issues, only physicochemical (inputs) and sensory (the output) variables are available (e.g. there is no data about grape types, wine brand, wine selling price, etc.).\\n\\nThese datasets can be viewed as classification or regression tasks.  The classes are ordered and not balanced (e.g. there are many more normal wines than excellent or poor ones). Outlier detection algorithms could be used to detect the few excellent or poor wines. Also, we are not sure if all input variables are relevant. So it could be interesting to test feature selection methods.\\n', 'purpose': None, 'funded_by': None, 'instances_represent': None, 'recommended_data_splits': None, 'sensitive_data': None, 'preprocessing_description': None, 'variable_info': 'For more information, read [Cortez et al., 2009].\\r\\nInput variables (based on physicochemical tests):\\r\\n   1 - fixed acidity\\r\\n   2 - volatile acidity\\r\\n   3 - citric acid\\r\\n   4 - residual sugar\\r\\n   5 - chlorides\\r\\n   6 - free sulfur dioxide\\r\\n   7 - total sulfur dioxide\\r\\n   8 - density\\r\\n   9 - pH\\r\\n   10 - sulphates\\r\\n   11 - alcohol\\r\\nOutput variable (based on sensory data): \\r\\n   12 - quality (score between 0 and 10)', 'citation': None}}\n",
            "                    name     role         type demographic  \\\n",
            "0          fixed_acidity  Feature   Continuous        None   \n",
            "1       volatile_acidity  Feature   Continuous        None   \n",
            "2            citric_acid  Feature   Continuous        None   \n",
            "3         residual_sugar  Feature   Continuous        None   \n",
            "4              chlorides  Feature   Continuous        None   \n",
            "5    free_sulfur_dioxide  Feature   Continuous        None   \n",
            "6   total_sulfur_dioxide  Feature   Continuous        None   \n",
            "7                density  Feature   Continuous        None   \n",
            "8                     pH  Feature   Continuous        None   \n",
            "9              sulphates  Feature   Continuous        None   \n",
            "10               alcohol  Feature   Continuous        None   \n",
            "11               quality   Target      Integer        None   \n",
            "12                 color    Other  Categorical        None   \n",
            "\n",
            "               description units missing_values  \n",
            "0                     None  None             no  \n",
            "1                     None  None             no  \n",
            "2                     None  None             no  \n",
            "3                     None  None             no  \n",
            "4                     None  None             no  \n",
            "5                     None  None             no  \n",
            "6                     None  None             no  \n",
            "7                     None  None             no  \n",
            "8                     None  None             no  \n",
            "9                     None  None             no  \n",
            "10                    None  None             no  \n",
            "11  score between 0 and 10  None             no  \n",
            "12            red or white  None             no  \n"
          ]
        }
      ]
    },
    {
      "cell_type": "code",
      "source": [
        "# Identify categorical columns\n",
        "categorical_columns = X.select_dtypes(include=['object']).columns\n",
        "\n",
        "# Drop categorical columns from X\n",
        "X_no_categorical = X.drop(columns=categorical_columns)\n",
        "\n",
        "# Display the first few rows of the updated X\n",
        "print(\"Features (X) after dropping categorical columns:\")\n",
        "print(X_no_categorical.head())"
      ],
      "metadata": {
        "colab": {
          "base_uri": "https://localhost:8080/"
        },
        "id": "E9w9iLR199Dx",
        "outputId": "49306dbe-160d-4ef6-d282-4b857fc4d300"
      },
      "execution_count": 60,
      "outputs": [
        {
          "output_type": "stream",
          "name": "stdout",
          "text": [
            "Features (X) after dropping categorical columns:\n",
            "   fixed_acidity  volatile_acidity  citric_acid  residual_sugar  chlorides  \\\n",
            "0            7.4              0.70         0.00             1.9      0.076   \n",
            "1            7.8              0.88         0.00             2.6      0.098   \n",
            "2            7.8              0.76         0.04             2.3      0.092   \n",
            "3           11.2              0.28         0.56             1.9      0.075   \n",
            "4            7.4              0.70         0.00             1.9      0.076   \n",
            "\n",
            "   free_sulfur_dioxide  total_sulfur_dioxide  density    pH  sulphates  \\\n",
            "0                 11.0                  34.0   0.9978  3.51       0.56   \n",
            "1                 25.0                  67.0   0.9968  3.20       0.68   \n",
            "2                 15.0                  54.0   0.9970  3.26       0.65   \n",
            "3                 17.0                  60.0   0.9980  3.16       0.58   \n",
            "4                 11.0                  34.0   0.9978  3.51       0.56   \n",
            "\n",
            "   alcohol  \n",
            "0      9.4  \n",
            "1      9.8  \n",
            "2      9.8  \n",
            "3      9.8  \n",
            "4      9.4  \n"
          ]
        }
      ]
    },
    {
      "cell_type": "code",
      "source": [
        "X = X.values\n",
        "print(X)"
      ],
      "metadata": {
        "colab": {
          "base_uri": "https://localhost:8080/"
        },
        "id": "oOaAbFQAUKZW",
        "outputId": "cfeaa200-fe89-4976-cd96-43ff0d92ec2e"
      },
      "execution_count": 61,
      "outputs": [
        {
          "output_type": "stream",
          "name": "stdout",
          "text": [
            "[[ 7.4   0.7   0.   ...  3.51  0.56  9.4 ]\n",
            " [ 7.8   0.88  0.   ...  3.2   0.68  9.8 ]\n",
            " [ 7.8   0.76  0.04 ...  3.26  0.65  9.8 ]\n",
            " ...\n",
            " [ 6.5   0.24  0.19 ...  2.99  0.46  9.4 ]\n",
            " [ 5.5   0.29  0.3  ...  3.34  0.38 12.8 ]\n",
            " [ 6.    0.21  0.38 ...  3.26  0.32 11.8 ]]\n"
          ]
        }
      ]
    },
    {
      "cell_type": "code",
      "source": [
        "print(y.head(20))"
      ],
      "metadata": {
        "colab": {
          "base_uri": "https://localhost:8080/"
        },
        "id": "SkQlMVzu-HXE",
        "outputId": "9dfb928e-79ac-4124-911b-49e832222170"
      },
      "execution_count": 62,
      "outputs": [
        {
          "output_type": "stream",
          "name": "stdout",
          "text": [
            "    quality\n",
            "0         5\n",
            "1         5\n",
            "2         5\n",
            "3         6\n",
            "4         5\n",
            "5         5\n",
            "6         5\n",
            "7         7\n",
            "8         7\n",
            "9         5\n",
            "10        5\n",
            "11        5\n",
            "12        5\n",
            "13        5\n",
            "14        5\n",
            "15        5\n",
            "16        7\n",
            "17        5\n",
            "18        4\n",
            "19        6\n"
          ]
        }
      ]
    },
    {
      "cell_type": "code",
      "source": [
        "# Define the bin edges for the binary transformation\n",
        "bin_edges = [0, 5, 10]\n",
        "\n",
        "# Use numpy's digitize function to create the binary variable\n",
        "y = np.digitize(y['quality'], bins=bin_edges, right=True) -1\n",
        "\n",
        "# Display the transformed target variable\n",
        "print(\"Transformed target variable (y_binary):\")\n",
        "print(y[:20])"
      ],
      "metadata": {
        "colab": {
          "base_uri": "https://localhost:8080/"
        },
        "id": "Yqeurcw8-5mt",
        "outputId": "81e98125-50b1-4db2-f68f-080b735bb842"
      },
      "execution_count": 63,
      "outputs": [
        {
          "output_type": "stream",
          "name": "stdout",
          "text": [
            "Transformed target variable (y_binary):\n",
            "[0 0 0 1 0 0 0 1 1 0 0 0 0 0 0 0 1 0 0 1]\n"
          ]
        }
      ]
    },
    {
      "cell_type": "code",
      "source": [
        "# Standardize the feature matrix\n",
        "scaler = StandardScaler()\n",
        "X = scaler.fit_transform(X)\n",
        "\n",
        "\n",
        "# Split the data into training and validation sets\n",
        "X_train, X_val, y_train, y_val = train_test_split(X, y, test_size=0.2, random_state=42)"
      ],
      "metadata": {
        "id": "A1vetulIUe0G"
      },
      "execution_count": 64,
      "outputs": []
    },
    {
      "cell_type": "code",
      "source": [
        "results_dict = fit_logistic_regression_methods(X_train, y_train, reg_param=1.0)\n",
        "\n",
        "# Print the results\n",
        "for method, result in results_dict.items():\n",
        "    print(f\"\\nResults for {method}:\\n\", result)"
      ],
      "metadata": {
        "colab": {
          "base_uri": "https://localhost:8080/"
        },
        "outputId": "76696dfb-15ad-4d4f-fd4a-2732b4c8fea4",
        "id": "41E_RFT6Ue0H"
      },
      "execution_count": 65,
      "outputs": [
        {
          "output_type": "stream",
          "name": "stdout",
          "text": [
            "\n",
            "Results for Gradient Descent:\n",
            " {'last_cost_value': 0.5969285867787423, 'runtime': 0.08566832542419434, 'iterations': 33, 'accuracy': 0.6853846153846154}\n",
            "\n",
            "Results for Newton's Method:\n",
            " {'last_cost_value': 0.6931236365648629, 'runtime': 0.2072279453277588, 'iterations': 1, 'accuracy': 0.6846153846153846}\n",
            "\n",
            "Results for Gradient Conjugate:\n",
            " {'last_cost_value': 0.5541752102180622, 'runtime': 0.11291980743408203, 'iterations': 26, 'accuracy': 0.6915384615384615}\n"
          ]
        }
      ]
    },
    {
      "cell_type": "markdown",
      "source": [
        "**Findings:**\n",
        "\n",
        "* Accuracy: Gradient Conjugate achieved the highest accuracy of 69.15%, followed closely by Gradient Descent (68.54%) and Newton's Method (68.46%).\n",
        "\n",
        "* Runtime: Newton's Method had the longest runtime (0.2072 seconds), while Gradient Conjugate (0.1129 seconds) and Gradient Descent (0.0857 seconds) were relatively faster.\n",
        "\n",
        "* Iterations: Newton's Method converged in just 1 iteration, Gradient Conjugate required 26 iterations, and Gradient Descent needed 33 iterations.\n",
        "\n",
        "**Conclusion:**\n",
        "\n",
        "Gradient Conjugate demonstrated the highest accuracy on the Wine Quality dataset with a reasonable number of iterations and runtime.\n",
        "Newton's Method achieved fast convergence with only one iteration but had slightly lower accuracy.\n",
        "Gradient Descent had competitive accuracy and required more iterations compared to the other methods."
      ],
      "metadata": {
        "id": "hDB6X_2_Nl90"
      }
    },
    {
      "cell_type": "markdown",
      "source": [
        "# Rice (Cammeo and Osmancik) dataset\n",
        "\n",
        "A total of 3810 rice grain's images were taken for the two species, processed and feature inferences were made. 7 morphological features were obtained for each grain of rice.\n",
        "\n",
        "* Area: Returns  the  number  of  pixels  within  the boundaries of the rice grain.\n",
        "* Perimeter: Calculates the circumference by calculating  the  distance  between  pixels around the boundaries of the rice grain.\n",
        "* Major Axis Length: The longest line that can be drawn on the rice  grain,  i.e.  the  main  axis  distance, gives.\n",
        "* Minor Axis Length: The shortest line that can be drawn on the rice  grain,  i.e.  the  small  axis  distance, gives.\n",
        "* Eccentricity: It measures how round the ellipse, which has  the  same  moments  as  the  rice  grain, is.\n",
        "* Convex Area: Returns  the  pixel  count  of  the  smallest convex shell of the region formed by the rice grain.\n",
        "* Extent: Returns the ratio of the regionformed by the rice grain to the bounding box pixels.\n",
        "* Class: Cammeo and Osmancik rices"
      ],
      "metadata": {
        "id": "kt1kJf2REmyA"
      }
    },
    {
      "cell_type": "code",
      "source": [
        "# fetch dataset\n",
        "rice_cammeo_and_osmancik = fetch_ucirepo(id=545)\n",
        "\n",
        "# data (as pandas dataframes)\n",
        "X = rice_cammeo_and_osmancik.data.features\n",
        "y = rice_cammeo_and_osmancik.data.targets\n",
        "\n",
        "# metadata\n",
        "print(rice_cammeo_and_osmancik.metadata)\n",
        "\n",
        "# variable information\n",
        "print(rice_cammeo_and_osmancik.variables)"
      ],
      "metadata": {
        "colab": {
          "base_uri": "https://localhost:8080/"
        },
        "id": "ZoSbe8GLDFmR",
        "outputId": "4f748264-d6eb-4735-a6b6-87b15f0bf9a2"
      },
      "execution_count": 66,
      "outputs": [
        {
          "output_type": "stream",
          "name": "stdout",
          "text": [
            "{'uci_id': 545, 'name': 'Rice (Cammeo and Osmancik)', 'repository_url': 'https://archive.ics.uci.edu/dataset/545/rice+cammeo+and+osmancik', 'data_url': 'https://archive.ics.uci.edu/static/public/545/data.csv', 'abstract': \"A total of 3810 rice grain's images were taken for the two species, processed and feature inferences were made. 7 morphological features were obtained for each grain of rice.\", 'area': 'Biology', 'tasks': ['Classification'], 'characteristics': ['Multivariate'], 'num_instances': 3810, 'num_features': 7, 'feature_types': ['Real'], 'demographics': [], 'target_col': ['Class'], 'index_col': None, 'has_missing_values': 'no', 'missing_values_symbol': None, 'year_of_dataset_creation': 2019, 'last_updated': 'Fri Nov 03 2023', 'dataset_doi': '10.24432/C5MW4Z', 'creators': [], 'intro_paper': {'title': 'Classification of Rice Varieties Using Artificial Intelligence Methods', 'authors': 'Ilkay Cinar, M. Koklu', 'published_in': 'International Journal of Intelligent Systems and Applications in Engineering', 'year': 2019, 'url': 'https://www.semanticscholar.org/paper/4e508bb906c8fdc04ead6f20bd8918fcb3605d1c', 'doi': '10.18201/ijisae.2019355381'}, 'additional_info': {'summary': \"Among  the certified rice grown in TURKEY,  the  Osmancik species, which has a large planting area since 1997 and the Cammeo species grown since 2014 have been selected for the study.  When  looking  at  the  general  characteristics  of  Osmancik species, they have a wide, long, glassy and dull appearance.  When looking at the general characteristics of the Cammeo species, they have wide and long, glassy and dull in appearance.  A total of 3810 rice grain's images were taken for the two species, processed and feature inferences were made. 7 morphological features were obtained for each grain of rice. \", 'purpose': None, 'funded_by': None, 'instances_represent': None, 'recommended_data_splits': None, 'sensitive_data': None, 'preprocessing_description': None, 'variable_info': '1.) Area: Returns  the  number  of  pixels  within  the boundaries of the rice grain.\\r\\n2.) Perimeter: Calculates the circumference by calculating  the  distance  between  pixels around the boundaries of the rice grain.\\r\\n3.) Major Axis Length: The longest line that can be drawn on the rice  grain,  i.e.  the  main  axis  distance, gives.\\r\\n4.) Minor Axis Length: The shortest line that can be drawn on the rice  grain,  i.e.  the  small  axis  distance, gives.\\r\\n5.) Eccentricity: It measures how round the ellipse, which has  the  same  moments  as  the  rice  grain, is.\\r\\n6.) Convex Area: Returns  the  pixel  count  of  the  smallest convex shell of the region formed by the rice grain.\\r\\n7.) Extent: Returns the ratio of the regionformed by the rice grain to the bounding box pixels.\\r\\n8.) Class: Cammeo and Osmancik rices', 'citation': None}}\n",
            "                name     role        type demographic  \\\n",
            "0               Area  Feature     Integer        None   \n",
            "1          Perimeter  Feature  Continuous        None   \n",
            "2  Major_Axis_Length  Feature  Continuous        None   \n",
            "3  Minor_Axis_Length  Feature  Continuous        None   \n",
            "4       Eccentricity  Feature  Continuous        None   \n",
            "5        Convex_Area  Feature     Integer        None   \n",
            "6             Extent  Feature  Continuous        None   \n",
            "7              Class   Target      Binary        None   \n",
            "\n",
            "                                         description units missing_values  \n",
            "0  Returns the number of pixels within the bounda...    px             no  \n",
            "1  Calculates the circumference by calculating th...    px             no  \n",
            "2  The longest line that can be drawn on the rice...  None             no  \n",
            "3  The shortest line that can be drawn on the ric...  None             no  \n",
            "4  It measures how round the ellipse, which has t...  None             no  \n",
            "5  Returns the pixel count of the smallest convex...  None             no  \n",
            "6  Returns the ratio of the region formed by the ...  None             no  \n",
            "7                                Cammeo and Osmancik  None             no  \n"
          ]
        }
      ]
    },
    {
      "cell_type": "code",
      "source": [
        "# Count the number of instances of each class\n",
        "class_counts = y.value_counts()\n",
        "\n",
        "# Display the counts for \"cammeo\" and \"osmancik\"\n",
        "cammeo_count = class_counts.get(\"Cammeo\", 0)\n",
        "osmancik_count = class_counts.get(\"Osmancik\", 0)\n",
        "\n",
        "# Print the counts\n",
        "print(\"Number of instances of 'cammeo':\", cammeo_count)\n",
        "print(\"Number of instances of 'osmancik':\", osmancik_count)"
      ],
      "metadata": {
        "colab": {
          "base_uri": "https://localhost:8080/"
        },
        "id": "Hd7jL06pDLUx",
        "outputId": "1579e26e-aa02-46b5-d9e6-7eee8999e41d"
      },
      "execution_count": 67,
      "outputs": [
        {
          "output_type": "stream",
          "name": "stdout",
          "text": [
            "Number of instances of 'cammeo': 1630\n",
            "Number of instances of 'osmancik': 2180\n"
          ]
        }
      ]
    },
    {
      "cell_type": "code",
      "source": [
        "X = X.values\n",
        "print(X)"
      ],
      "metadata": {
        "colab": {
          "base_uri": "https://localhost:8080/"
        },
        "id": "IYV3sOViVC_y",
        "outputId": "ba9fb6e7-2246-4b7d-b7e0-af75f78b1075"
      },
      "execution_count": 68,
      "outputs": [
        {
          "output_type": "stream",
          "name": "stdout",
          "text": [
            "[[1.52310000e+04 5.25578979e+02 2.29749878e+02 ... 9.28882003e-01\n",
            "  1.56170000e+04 5.72895527e-01]\n",
            " [1.46560000e+04 4.94311005e+02 2.06020065e+02 ... 8.95404994e-01\n",
            "  1.50720000e+04 6.15436316e-01]\n",
            " [1.46340000e+04 5.01122009e+02 2.14106781e+02 ... 9.12118077e-01\n",
            "  1.49540000e+04 6.93258822e-01]\n",
            " ...\n",
            " [1.24370000e+04 4.42498993e+02 1.83572922e+02 ... 8.81144345e-01\n",
            "  1.26450000e+04 6.26738548e-01]\n",
            " [9.88200000e+03 3.92296997e+02 1.61193985e+02 ... 8.74406099e-01\n",
            "  1.00970000e+04 6.59063637e-01]\n",
            " [1.14340000e+04 4.04709992e+02 1.61079269e+02 ... 8.25692177e-01\n",
            "  1.15910000e+04 8.02949429e-01]]\n"
          ]
        }
      ]
    },
    {
      "cell_type": "code",
      "source": [
        "# Create a binary vector as a NumPy array\n",
        "y= (y['Class'] == \"Osmancik\").astype(int).values\n",
        "\n",
        "# Display the binary vector\n",
        "print(\"Binary vector (y_binary):\")\n",
        "print(y)"
      ],
      "metadata": {
        "colab": {
          "base_uri": "https://localhost:8080/"
        },
        "id": "SDG-41XnFp2m",
        "outputId": "d7bc4aef-8e2d-41a5-e2f4-6b6207031c08"
      },
      "execution_count": 69,
      "outputs": [
        {
          "output_type": "stream",
          "name": "stdout",
          "text": [
            "Binary vector (y_binary):\n",
            "[0 0 0 ... 1 1 1]\n"
          ]
        }
      ]
    },
    {
      "cell_type": "code",
      "source": [
        "# Standardize the feature matrix\n",
        "scaler = StandardScaler()\n",
        "X = scaler.fit_transform(X)\n",
        "\n",
        "\n",
        "# Split the data into training and validation sets\n",
        "X_train, X_val, y_train, y_val = train_test_split(X, y, test_size=0.2, random_state=42)"
      ],
      "metadata": {
        "id": "JolevCiDVUbl"
      },
      "execution_count": 70,
      "outputs": []
    },
    {
      "cell_type": "code",
      "source": [
        "results_dict = fit_logistic_regression_methods(X_train, y_train, reg_param=1.0)\n",
        "\n",
        "# Print the results\n",
        "for method, result in results_dict.items():\n",
        "    print(f\"\\nResults for {method}:\\n\", result)"
      ],
      "metadata": {
        "colab": {
          "base_uri": "https://localhost:8080/"
        },
        "outputId": "648a17c8-8d8e-4a40-9acc-a181f46f1a9c",
        "id": "EAajcTVLVUbl"
      },
      "execution_count": 71,
      "outputs": [
        {
          "output_type": "stream",
          "name": "stdout",
          "text": [
            "\n",
            "Results for Gradient Descent:\n",
            " {'last_cost_value': 0.24542711534784412, 'runtime': 0.027408838272094727, 'iterations': 49, 'accuracy': 0.9212598425196851}\n",
            "\n",
            "Results for Newton's Method:\n",
            " {'last_cost_value': 0.6930364596333044, 'runtime': 0.023453474044799805, 'iterations': 1, 'accuracy': 0.9278215223097113}\n",
            "\n",
            "Results for Gradient Conjugate:\n",
            " {'last_cost_value': 0.19959365616110156, 'runtime': 0.025061368942260742, 'iterations': 23, 'accuracy': 0.9238845144356955}\n"
          ]
        }
      ]
    },
    {
      "cell_type": "markdown",
      "source": [
        "**Findings:**\n",
        "\n",
        "* Accuracy: Newton's Method achieved the highest accuracy of 92.78%, closely followed by Gradient Conjugate (92.39%) and Gradient Descent (92.13%).\n",
        "\n",
        "* Runtime: Newton's Method had the fastest runtime (0.0235 seconds), followed by Gradient Conjugate (0.0251 seconds) and Gradient Descent (0.0274 seconds).\n",
        "\n",
        "* Iterations: Newton's Method converged in just 1 iteration, Gradient Conjugate required 23 iterations, and Gradient Descent needed 49 iterations.\n",
        "\n",
        "**Conclusion:**\n",
        "\n",
        "Newton's Method demonstrated the highest accuracy on the Rice dataset with the fastest runtime and minimal iterations.\n",
        "Gradient Conjugate also achieved high accuracy with fewer iterations compared to Gradient Descent.\n",
        "Gradient Descent had competitive accuracy but required more iterations compared to the other methods."
      ],
      "metadata": {
        "id": "YgJ7ptrYOBT0"
      }
    },
    {
      "cell_type": "markdown",
      "source": [
        "# Project Summary:\n",
        "\n",
        "**Optimization Methods Comparison:**\n",
        "\n",
        "* Accuracy: Newton's Method consistently achieved the highest accuracy across datasets.\n",
        "\n",
        "* Runtime: Newton's Method generally had the fastest runtime.\n",
        "\n",
        "* Iterations: Newton's Method frequently converged in the fewest iterations.\n",
        "\n",
        "**Recommendations:**\n",
        "\n",
        "* Newton's Method is preferred when rapid convergence is crucial, and higher accuracy is required.\n",
        "\n",
        "* Gradient Conjugate provides a balance between accuracy and runtime.\n",
        "\n",
        "* Gradient Descent remains competitive, especially for larger datasets.\n",
        "\n",
        "**Considerations:**\n",
        "\n",
        "Datasets with varying characteristics may influence the choice of optimization method.\n",
        "Fine-tuning hyperparameters and exploring other optimization algorithms could enhance model performance.\n",
        "This comprehensive overview summarizes the performance of different optimization methods across diverse datasets, providing valuable insights for future model development and selection based on specific dataset characteristics and project requirements."
      ],
      "metadata": {
        "id": "3e_PgrXKOHhi"
      }
    }
  ]
}